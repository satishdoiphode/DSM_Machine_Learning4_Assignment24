{
 "cells": [
  {
   "cell_type": "code",
   "execution_count": 1,
   "metadata": {},
   "outputs": [],
   "source": [
    "import pandas as pd\n",
    "import numpy as np\n",
    "import seaborn as sns\n",
    "import matplotlib.pyplot as plt\n"
   ]
  },
  {
   "cell_type": "code",
   "execution_count": 2,
   "metadata": {},
   "outputs": [
    {
     "name": "stdout",
     "output_type": "stream",
     "text": [
      "<class 'pandas.core.frame.DataFrame'>\n",
      "RangeIndex: 891 entries, 0 to 890\n",
      "Data columns (total 12 columns):\n",
      "PassengerId    891 non-null int64\n",
      "Survived       891 non-null int64\n",
      "Pclass         891 non-null int64\n",
      "Name           891 non-null object\n",
      "Sex            891 non-null object\n",
      "Age            714 non-null float64\n",
      "SibSp          891 non-null int64\n",
      "Parch          891 non-null int64\n",
      "Ticket         891 non-null object\n",
      "Fare           891 non-null float64\n",
      "Cabin          204 non-null object\n",
      "Embarked       889 non-null object\n",
      "dtypes: float64(2), int64(5), object(5)\n",
      "memory usage: 83.6+ KB\n",
      "None\n",
      "\n",
      " Embarked options:  S    644\n",
      "C    168\n",
      "Q     77\n",
      "Name: Embarked, dtype: int64\n"
     ]
    },
    {
     "data": {
      "text/html": [
       "<div>\n",
       "<style scoped>\n",
       "    .dataframe tbody tr th:only-of-type {\n",
       "        vertical-align: middle;\n",
       "    }\n",
       "\n",
       "    .dataframe tbody tr th {\n",
       "        vertical-align: top;\n",
       "    }\n",
       "\n",
       "    .dataframe thead th {\n",
       "        text-align: right;\n",
       "    }\n",
       "</style>\n",
       "<table border=\"1\" class=\"dataframe\">\n",
       "  <thead>\n",
       "    <tr style=\"text-align: right;\">\n",
       "      <th></th>\n",
       "      <th>PassengerId</th>\n",
       "      <th>Survived</th>\n",
       "      <th>Pclass</th>\n",
       "      <th>Age</th>\n",
       "      <th>SibSp</th>\n",
       "      <th>Parch</th>\n",
       "      <th>Fare</th>\n",
       "    </tr>\n",
       "  </thead>\n",
       "  <tbody>\n",
       "    <tr>\n",
       "      <th>count</th>\n",
       "      <td>891.000000</td>\n",
       "      <td>891.000000</td>\n",
       "      <td>891.000000</td>\n",
       "      <td>714.000000</td>\n",
       "      <td>891.000000</td>\n",
       "      <td>891.000000</td>\n",
       "      <td>891.000000</td>\n",
       "    </tr>\n",
       "    <tr>\n",
       "      <th>mean</th>\n",
       "      <td>446.000000</td>\n",
       "      <td>0.383838</td>\n",
       "      <td>2.308642</td>\n",
       "      <td>29.699118</td>\n",
       "      <td>0.523008</td>\n",
       "      <td>0.381594</td>\n",
       "      <td>32.204208</td>\n",
       "    </tr>\n",
       "    <tr>\n",
       "      <th>std</th>\n",
       "      <td>257.353842</td>\n",
       "      <td>0.486592</td>\n",
       "      <td>0.836071</td>\n",
       "      <td>14.526497</td>\n",
       "      <td>1.102743</td>\n",
       "      <td>0.806057</td>\n",
       "      <td>49.693429</td>\n",
       "    </tr>\n",
       "    <tr>\n",
       "      <th>min</th>\n",
       "      <td>1.000000</td>\n",
       "      <td>0.000000</td>\n",
       "      <td>1.000000</td>\n",
       "      <td>0.420000</td>\n",
       "      <td>0.000000</td>\n",
       "      <td>0.000000</td>\n",
       "      <td>0.000000</td>\n",
       "    </tr>\n",
       "    <tr>\n",
       "      <th>25%</th>\n",
       "      <td>223.500000</td>\n",
       "      <td>0.000000</td>\n",
       "      <td>2.000000</td>\n",
       "      <td>20.125000</td>\n",
       "      <td>0.000000</td>\n",
       "      <td>0.000000</td>\n",
       "      <td>7.910400</td>\n",
       "    </tr>\n",
       "    <tr>\n",
       "      <th>50%</th>\n",
       "      <td>446.000000</td>\n",
       "      <td>0.000000</td>\n",
       "      <td>3.000000</td>\n",
       "      <td>28.000000</td>\n",
       "      <td>0.000000</td>\n",
       "      <td>0.000000</td>\n",
       "      <td>14.454200</td>\n",
       "    </tr>\n",
       "    <tr>\n",
       "      <th>75%</th>\n",
       "      <td>668.500000</td>\n",
       "      <td>1.000000</td>\n",
       "      <td>3.000000</td>\n",
       "      <td>38.000000</td>\n",
       "      <td>1.000000</td>\n",
       "      <td>0.000000</td>\n",
       "      <td>31.000000</td>\n",
       "    </tr>\n",
       "    <tr>\n",
       "      <th>max</th>\n",
       "      <td>891.000000</td>\n",
       "      <td>1.000000</td>\n",
       "      <td>3.000000</td>\n",
       "      <td>80.000000</td>\n",
       "      <td>8.000000</td>\n",
       "      <td>6.000000</td>\n",
       "      <td>512.329200</td>\n",
       "    </tr>\n",
       "  </tbody>\n",
       "</table>\n",
       "</div>"
      ],
      "text/plain": [
       "       PassengerId    Survived      Pclass         Age       SibSp  \\\n",
       "count   891.000000  891.000000  891.000000  714.000000  891.000000   \n",
       "mean    446.000000    0.383838    2.308642   29.699118    0.523008   \n",
       "std     257.353842    0.486592    0.836071   14.526497    1.102743   \n",
       "min       1.000000    0.000000    1.000000    0.420000    0.000000   \n",
       "25%     223.500000    0.000000    2.000000   20.125000    0.000000   \n",
       "50%     446.000000    0.000000    3.000000   28.000000    0.000000   \n",
       "75%     668.500000    1.000000    3.000000   38.000000    1.000000   \n",
       "max     891.000000    1.000000    3.000000   80.000000    8.000000   \n",
       "\n",
       "            Parch        Fare  \n",
       "count  891.000000  891.000000  \n",
       "mean     0.381594   32.204208  \n",
       "std      0.806057   49.693429  \n",
       "min      0.000000    0.000000  \n",
       "25%      0.000000    7.910400  \n",
       "50%      0.000000   14.454200  \n",
       "75%      0.000000   31.000000  \n",
       "max      6.000000  512.329200  "
      ]
     },
     "execution_count": 2,
     "metadata": {},
     "output_type": "execute_result"
    }
   ],
   "source": [
    "%matplotlib inline\n",
    "url=\"https://raw.githubusercontent.com/BigDataGal/Python-for-Data-Science/master/titanic-train.csv\"\n",
    "data = pd.read_csv(url)\n",
    "print(data.info())\n",
    "print(\"\\n Embarked options: \", data[\"Embarked\"].value_counts())\n",
    "\n",
    "data.describe()"
   ]
  },
  {
   "cell_type": "code",
   "execution_count": 3,
   "metadata": {},
   "outputs": [],
   "source": [
    "#Apply less memory-consuming data types to the data "
   ]
  },
  {
   "cell_type": "code",
   "execution_count": 4,
   "metadata": {},
   "outputs": [
    {
     "data": {
      "text/html": [
       "<div>\n",
       "<style scoped>\n",
       "    .dataframe tbody tr th:only-of-type {\n",
       "        vertical-align: middle;\n",
       "    }\n",
       "\n",
       "    .dataframe tbody tr th {\n",
       "        vertical-align: top;\n",
       "    }\n",
       "\n",
       "    .dataframe thead th {\n",
       "        text-align: right;\n",
       "    }\n",
       "</style>\n",
       "<table border=\"1\" class=\"dataframe\">\n",
       "  <thead>\n",
       "    <tr style=\"text-align: right;\">\n",
       "      <th></th>\n",
       "      <th>PassengerId</th>\n",
       "      <th>Survived</th>\n",
       "      <th>Pclass</th>\n",
       "      <th>Name</th>\n",
       "      <th>Sex</th>\n",
       "      <th>Age</th>\n",
       "      <th>SibSp</th>\n",
       "      <th>Parch</th>\n",
       "      <th>Ticket</th>\n",
       "      <th>Fare</th>\n",
       "      <th>Cabin</th>\n",
       "      <th>Embarked</th>\n",
       "    </tr>\n",
       "  </thead>\n",
       "  <tbody>\n",
       "    <tr>\n",
       "      <th>0</th>\n",
       "      <td>1</td>\n",
       "      <td>0</td>\n",
       "      <td>3</td>\n",
       "      <td>Braund, Mr. Owen Harris</td>\n",
       "      <td>male</td>\n",
       "      <td>22.0</td>\n",
       "      <td>1</td>\n",
       "      <td>0</td>\n",
       "      <td>A/5 21171</td>\n",
       "      <td>7.2500</td>\n",
       "      <td>NaN</td>\n",
       "      <td>S</td>\n",
       "    </tr>\n",
       "    <tr>\n",
       "      <th>1</th>\n",
       "      <td>2</td>\n",
       "      <td>1</td>\n",
       "      <td>1</td>\n",
       "      <td>Cumings, Mrs. John Bradley (Florence Briggs Th...</td>\n",
       "      <td>female</td>\n",
       "      <td>38.0</td>\n",
       "      <td>1</td>\n",
       "      <td>0</td>\n",
       "      <td>PC 17599</td>\n",
       "      <td>71.2833</td>\n",
       "      <td>C85</td>\n",
       "      <td>C</td>\n",
       "    </tr>\n",
       "    <tr>\n",
       "      <th>2</th>\n",
       "      <td>3</td>\n",
       "      <td>1</td>\n",
       "      <td>3</td>\n",
       "      <td>Heikkinen, Miss. Laina</td>\n",
       "      <td>female</td>\n",
       "      <td>26.0</td>\n",
       "      <td>0</td>\n",
       "      <td>0</td>\n",
       "      <td>STON/O2. 3101282</td>\n",
       "      <td>7.9250</td>\n",
       "      <td>NaN</td>\n",
       "      <td>S</td>\n",
       "    </tr>\n",
       "    <tr>\n",
       "      <th>3</th>\n",
       "      <td>4</td>\n",
       "      <td>1</td>\n",
       "      <td>1</td>\n",
       "      <td>Futrelle, Mrs. Jacques Heath (Lily May Peel)</td>\n",
       "      <td>female</td>\n",
       "      <td>35.0</td>\n",
       "      <td>1</td>\n",
       "      <td>0</td>\n",
       "      <td>113803</td>\n",
       "      <td>53.1000</td>\n",
       "      <td>C123</td>\n",
       "      <td>S</td>\n",
       "    </tr>\n",
       "    <tr>\n",
       "      <th>4</th>\n",
       "      <td>5</td>\n",
       "      <td>0</td>\n",
       "      <td>3</td>\n",
       "      <td>Allen, Mr. William Henry</td>\n",
       "      <td>male</td>\n",
       "      <td>35.0</td>\n",
       "      <td>0</td>\n",
       "      <td>0</td>\n",
       "      <td>373450</td>\n",
       "      <td>8.0500</td>\n",
       "      <td>NaN</td>\n",
       "      <td>S</td>\n",
       "    </tr>\n",
       "  </tbody>\n",
       "</table>\n",
       "</div>"
      ],
      "text/plain": [
       "   PassengerId  Survived  Pclass  \\\n",
       "0            1         0       3   \n",
       "1            2         1       1   \n",
       "2            3         1       3   \n",
       "3            4         1       1   \n",
       "4            5         0       3   \n",
       "\n",
       "                                                Name     Sex   Age  SibSp  \\\n",
       "0                            Braund, Mr. Owen Harris    male  22.0      1   \n",
       "1  Cumings, Mrs. John Bradley (Florence Briggs Th...  female  38.0      1   \n",
       "2                             Heikkinen, Miss. Laina  female  26.0      0   \n",
       "3       Futrelle, Mrs. Jacques Heath (Lily May Peel)  female  35.0      1   \n",
       "4                           Allen, Mr. William Henry    male  35.0      0   \n",
       "\n",
       "   Parch            Ticket     Fare Cabin Embarked  \n",
       "0      0         A/5 21171   7.2500   NaN        S  \n",
       "1      0          PC 17599  71.2833   C85        C  \n",
       "2      0  STON/O2. 3101282   7.9250   NaN        S  \n",
       "3      0            113803  53.1000  C123        S  \n",
       "4      0            373450   8.0500   NaN        S  "
      ]
     },
     "execution_count": 4,
     "metadata": {},
     "output_type": "execute_result"
    }
   ],
   "source": [
    "data.head()"
   ]
  },
  {
   "cell_type": "code",
   "execution_count": 5,
   "metadata": {},
   "outputs": [],
   "source": [
    "from sklearn.model_selection import train_test_split"
   ]
  },
  {
   "cell_type": "code",
   "execution_count": 6,
   "metadata": {},
   "outputs": [],
   "source": [
    "# setting up new data types\n",
    "dtypes_col       = data.columns\n",
    "dtypes_type_old  = data.dtypes\n",
    "dtypes_type      = ['int16', 'bool','category','object','category','float32','int8','int8','object','float32','object','category']\n",
    "optimized_dtypes = dict(zip(dtypes_col, dtypes_type))"
   ]
  },
  {
   "cell_type": "code",
   "execution_count": 7,
   "metadata": {},
   "outputs": [],
   "source": [
    "#read data once again with optimized columns\n",
    "data_optimized = pd.read_csv(url,dtype=optimized_dtypes)\n",
    "test_optimized = pd.read_csv(url,dtype=optimized_dtypes)\n",
    "\n",
    "#splitting data to train and validation\n",
    "train, valid = train_test_split(data_optimized, test_size=0.2)\n"
   ]
  },
  {
   "cell_type": "code",
   "execution_count": 8,
   "metadata": {},
   "outputs": [
    {
     "name": "stdout",
     "output_type": "stream",
     "text": [
      "<class 'pandas.core.frame.DataFrame'>\n",
      "RangeIndex: 891 entries, 0 to 890\n",
      "Data columns (total 12 columns):\n",
      "PassengerId    891 non-null int16\n",
      "Survived       891 non-null bool\n",
      "Pclass         891 non-null category\n",
      "Name           891 non-null object\n",
      "Sex            891 non-null category\n",
      "Age            714 non-null float32\n",
      "SibSp          891 non-null int8\n",
      "Parch          891 non-null int8\n",
      "Ticket         891 non-null object\n",
      "Fare           891 non-null float32\n",
      "Cabin          204 non-null object\n",
      "Embarked       889 non-null category\n",
      "dtypes: bool(1), category(3), float32(2), int16(1), int8(2), object(3)\n",
      "memory usage: 35.2+ KB\n",
      "None\n"
     ]
    }
   ],
   "source": [
    "combined = {\"train\":train,\n",
    "            \"valid\":valid,\n",
    "            \"test\":test_optimized}\n",
    "\n",
    "print(data_optimized.info())"
   ]
  },
  {
   "cell_type": "code",
   "execution_count": 9,
   "metadata": {},
   "outputs": [
    {
     "data": {
      "text/plain": [
       "PassengerId      0\n",
       "Survived         0\n",
       "Pclass           0\n",
       "Name             0\n",
       "Sex              0\n",
       "Age            177\n",
       "SibSp            0\n",
       "Parch            0\n",
       "Ticket           0\n",
       "Fare             0\n",
       "Cabin          687\n",
       "Embarked         2\n",
       "dtype: int64"
      ]
     },
     "execution_count": 9,
     "metadata": {},
     "output_type": "execute_result"
    }
   ],
   "source": [
    "#Do we have any missing data?\n",
    "data_optimized.isnull().sum()"
   ]
  },
  {
   "cell_type": "code",
   "execution_count": 10,
   "metadata": {},
   "outputs": [],
   "source": [
    "#\"Cabin\" column will not be interesting for us, because there is a lot of missing data.\n",
    "#\"Age\" column may be important for the model, and but some of decision tree models \n",
    "#have a mechanism for estimating missing value based on correlation with other values if possible."
   ]
  },
  {
   "cell_type": "code",
   "execution_count": 11,
   "metadata": {},
   "outputs": [],
   "source": [
    "combined_cleaned = {}\n",
    "for i,data in combined.items():\n",
    "    combined_cleaned[i] = data.drop('Cabin', 1).copy()"
   ]
  },
  {
   "cell_type": "code",
   "execution_count": 12,
   "metadata": {},
   "outputs": [
    {
     "data": {
      "text/plain": [
       "<matplotlib.axes._subplots.AxesSubplot at 0x233f647e908>"
      ]
     },
     "execution_count": 12,
     "metadata": {},
     "output_type": "execute_result"
    },
    {
     "data": {
      "image/png": "[encoded data removed]",
      "text/plain": [
       "<Figure size 1152x864 with 2 Axes>"
      ]
     },
     "metadata": {},
     "output_type": "display_data"
    }
   ],
   "source": [
    "#numerical features\n",
    "\n",
    "train_numeric = combined_cleaned[\"train\"].select_dtypes(include=['float32','int16','int8','bool'])\n",
    "\n",
    "colormap = plt.cm.cubehelix_r\n",
    "plt.figure(figsize=(16,12))\n",
    "\n",
    "plt.title('Pearson correlation of numeric features', y=1.05, size=15)\n",
    "sns.heatmap(train_numeric.corr(),linewidths=0.1,vmax=1.0, square=True, cmap=colormap, linecolor='white', annot=True)"
   ]
  },
  {
   "cell_type": "code",
   "execution_count": 13,
   "metadata": {},
   "outputs": [],
   "source": [
    "#Two interesting correlations are:\n",
    "\n",
    "#positive (0.41) for \"SibSp\" and \"Parch\"\n",
    "#negative (-0.31) for \"SibSp\" and \"Age\""
   ]
  },
  {
   "cell_type": "code",
   "execution_count": 14,
   "metadata": {},
   "outputs": [],
   "source": [
    "# category features# category features\n",
    "\n",
    "#we do not count NaN categories\n",
    "def survived_percent(categories,column):\n",
    "    survived_list = []\n",
    "    for c in categories.dropna():\n",
    "        count = combined_cleaned[\"train\"][combined_cleaned[\"train\"][column] == c][column].count()\n",
    "        survived = combined_cleaned[\"train\"][combined_cleaned[\"train\"][column] == c][\"Survived\"].sum()/count\n",
    "        survived_list.append(survived)\n",
    "    return survived_list    "
   ]
  },
  {
   "cell_type": "code",
   "execution_count": 15,
   "metadata": {},
   "outputs": [],
   "source": [
    "category_features_list = [\"Sex\", \"Embarked\",\"Pclass\"]\n",
    "category_features = {}\n",
    "\n",
    "for x in category_features_list:\n",
    "    unique_values = combined_cleaned[\"train\"][x].unique().dropna()\n",
    "    survived = survived_percent(unique_values,x)\n",
    "    category_features[x] = [unique_values, survived]"
   ]
  },
  {
   "cell_type": "code",
   "execution_count": 16,
   "metadata": {},
   "outputs": [
    {
     "data": {
      "image/png": "[encoded data removed]",
      "text/plain": [
       "<Figure size 1296x288 with 3 Axes>"
      ]
     },
     "metadata": {},
     "output_type": "display_data"
    }
   ],
   "source": [
    "fig, axs = plt.subplots(1, 3, figsize=(18, 4), sharey=True)\n",
    "cb_dark_blue = (0/255,107/255,164/255)\n",
    "cb_orange = (255/255, 128/255, 14/255)\n",
    "cb_grey = (89/255, 89/255, 89/255)\n",
    "color=[cb_dark_blue,cb_orange,cb_grey]\n",
    "font_dict = {'fontsize':20, \n",
    "             'fontweight':'bold',\n",
    "             'color':\"white\"}\n",
    "\n",
    "for i,cat in enumerate(category_features.keys()):\n",
    "    number_categories = len(category_features[cat][0])\n",
    "    axs[i].bar(range(number_categories), category_features[cat][1], color=color[:number_categories])\n",
    "    axs[i].set_title(\"Survival rate \" + cat ,fontsize=20, fontweight='bold' )\n",
    "    for j,indx in enumerate(category_features[cat][1]):\n",
    "        label_text = category_features[cat][0][j]\n",
    "        x = j\n",
    "        y = indx\n",
    "        axs[i].annotate(label_text, xy = (x-0.15 ,y/2), **font_dict )\n"
   ]
  },
  {
   "cell_type": "code",
   "execution_count": 17,
   "metadata": {},
   "outputs": [],
   "source": [
    "#Gender is a key factor insurvival rate.\n",
    "\n",
    "#for i in range(3):\n",
    " #   axs[i].tick_params(\n",
    "  #      axis='x',          # changes apply to the x-axis\n",
    "   #     which='both',      # both major and minor ticks are affected\n",
    "    #    bottom='off',      # ticks along the bottom edge are off\n",
    "     #   top='off',         # ticks along the top edge are off\n",
    "      #  labelbottom='off') # labels along the bottom edge are off\n",
    "    #axs[i].patch.set_visible(False)"
   ]
  },
  {
   "cell_type": "code",
   "execution_count": 18,
   "metadata": {},
   "outputs": [],
   "source": [
    "#3. Filling missing data\n",
    "#For \"Embarked\" colum we will use most popular category which is \"S\", because there are \n",
    "#only 2 records missing.\n",
    "#For \"Age\" column as a first attempt we will use age distribution  FAge  known \n",
    "#from the rest of the data and generate random number from it."
   ]
  },
  {
   "cell_type": "code",
   "execution_count": 19,
   "metadata": {},
   "outputs": [],
   "source": [
    "# filling NaN in \"Embarked\" and \"Fare\"\n",
    "\n",
    "for i,data in combined_cleaned.items():\n",
    "    data[\"Embarked\"].fillna(value=\"S\",inplace=True) # S is most popular value \n",
    "    mean_Fare = data[\"Fare\"].mean()\n",
    "    data[\"Fare\"].fillna(value=mean_Fare,inplace=True)"
   ]
  },
  {
   "cell_type": "code",
   "execution_count": 20,
   "metadata": {},
   "outputs": [
    {
     "name": "stderr",
     "output_type": "stream",
     "text": [
      "C:\\ProgramData\\Anaconda3\\lib\\site-packages\\matplotlib\\axes\\_axes.py:6462: UserWarning: The 'normed' kwarg is deprecated, and has been replaced by the 'density' kwarg.\n",
      "  warnings.warn(\"The 'normed' kwarg is deprecated, and has been \"\n"
     ]
    },
    {
     "data": {
      "image/png": "[encoded data removed]",
      "text/plain": [
       "<Figure size 432x288 with 1 Axes>"
      ]
     },
     "metadata": {},
     "output_type": "display_data"
    }
   ],
   "source": [
    "# filling NaN in \"Age\" \n",
    "fig, ax = plt.subplots( figsize=(6,4))\n",
    "x = combined_cleaned[\"train\"][\"Age\"].dropna()\n",
    "hist, bins = np.histogram( x,bins=15)\n",
    "\n",
    "#plot of histogram\n",
    "ax.hist(x, normed=True, color='grey')\n",
    "ax.set_title('Age histogram')\n",
    "plt.show()"
   ]
  },
  {
   "cell_type": "code",
   "execution_count": 21,
   "metadata": {},
   "outputs": [],
   "source": [
    "from random import choices\n",
    "\n",
    "bin_centers = 0.5*(bins[:len(bins)-1]+bins[1:])\n",
    "probabilities = hist/hist.sum()\n",
    "\n",
    "#dictionary with random numbers from existing age distribution\n",
    "for i,data in combined_cleaned.items():\n",
    "    data[\"Age_rand\"] = data[\"Age\"].apply(lambda v: np.random.choice(bin_centers, p=probabilities))\n",
    "    Age_null_list   = data[data[\"Age\"].isnull()].index\n",
    "    \n",
    "    data.loc[Age_null_list,\"Age\"] = data.loc[Age_null_list,\"Age_rand\"]"
   ]
  },
  {
   "cell_type": "code",
   "execution_count": 22,
   "metadata": {},
   "outputs": [],
   "source": [
    "#4. Modelling\n",
    "#a) C&RT decision tree"
   ]
  },
  {
   "cell_type": "code",
   "execution_count": 23,
   "metadata": {},
   "outputs": [],
   "source": [
    "from sklearn import preprocessing,tree\n",
    "from sklearn.model_selection import GridSearchCV\n",
    "\n",
    "tree_data = {}\n",
    "tree_data_category = {}\n",
    "\n",
    "for i,data in combined_cleaned.items():\n",
    "    tree_data[i] = data.select_dtypes(include=['float32','int16','int8']).copy()\n",
    "    tree_data_category[i] = data.select_dtypes(include=['category'])\n",
    "\n",
    "    #categorical variables handling\n",
    "    for column in tree_data_category[i].columns:\n",
    "        le = preprocessing.LabelEncoder()\n",
    "        le.fit(data[column])\n",
    "        tree_data[i][column+\"_encoded\"] = le.transform(data[column])"
   ]
  },
  {
   "cell_type": "code",
   "execution_count": 24,
   "metadata": {},
   "outputs": [
    {
     "name": "stdout",
     "output_type": "stream",
     "text": [
      "Tree best parameters : {'criterion': 'gini', 'max_depth': 4, 'min_samples_leaf': 25, 'min_samples_split': 25, 'min_weight_fraction_leaf': 0.0}\n",
      "Tree best estimator : DecisionTreeClassifier(class_weight=None, criterion='gini', max_depth=4,\n",
      "            max_features=None, max_leaf_nodes=None,\n",
      "            min_impurity_decrease=0.0, min_impurity_split=None,\n",
      "            min_samples_leaf=25, min_samples_split=25,\n",
      "            min_weight_fraction_leaf=0.0, presort=False, random_state=None,\n",
      "            splitter='best')\n",
      "Tree best score : 0.7930196981778758\n"
     ]
    }
   ],
   "source": [
    "#finding best fit with gridsearch\n",
    "param_grid = {'min_samples_leaf':np.arange(20,50,5),\n",
    "              'min_samples_split':np.arange(20,50,5),\n",
    "              'max_depth':np.arange(3,6),\n",
    "              'min_weight_fraction_leaf':np.arange(0,0.4,0.1),\n",
    "              'criterion':['gini','entropy']}\n",
    "clf = tree.DecisionTreeClassifier()\n",
    "tree_search = GridSearchCV(clf, param_grid, scoring='average_precision')\n",
    "\n",
    "X =  tree_data[\"train\"].drop(\"PassengerId\",axis=1)\n",
    "Y = combined_cleaned[\"train\"][\"Survived\"]\n",
    "tree_search.fit(X,Y)\n",
    "\n",
    "print(\"Tree best parameters :\",tree_search.best_params_)\n",
    "print(\"Tree best estimator :\",tree_search.best_estimator_ )\n",
    "print(\"Tree best score :\",tree_search.best_score_ )\n"
   ]
  },
  {
   "cell_type": "code",
   "execution_count": 25,
   "metadata": {},
   "outputs": [
    {
     "data": {
      "image/png": "[encoded data removed]",
      "text/plain": [
       "<Figure size 432x288 with 1 Axes>"
      ]
     },
     "metadata": {},
     "output_type": "display_data"
    }
   ],
   "source": [
    "tree_best_parameters = tree_search.best_params_\n",
    "tree_optimized = tree.DecisionTreeClassifier(**tree_best_parameters)\n",
    "tree_optimized.fit(X,Y)\n",
    "\n",
    "train_columns = list(tree_data[\"train\"].columns)\n",
    "train_columns.remove(\"PassengerId\")\n",
    "fig, ax = plt.subplots( figsize=(6,4))\n",
    "ax.bar(range(len(X.columns)),tree_optimized.feature_importances_ )\n",
    "plt.xticks(range(len(X.columns)),X.columns,rotation=90)\n",
    "ax.set_title(\"Feature importance\")\n",
    "plt.show()"
   ]
  },
  {
   "cell_type": "code",
   "execution_count": 26,
   "metadata": {},
   "outputs": [],
   "source": [
    "import graphviz"
   ]
  },
  {
   "cell_type": "code",
   "execution_count": 27,
   "metadata": {},
   "outputs": [
    {
     "data": {
      "image/svg+xml": [
       "<?xml version=\"1.0\" encoding=\"UTF-8\" standalone=\"no\"?>\r\n",
       "<!DOCTYPE svg PUBLIC \"-//W3C//DTD SVG 1.1//EN\"\r\n",
       " \"http://www.w3.org/Graphics/SVG/1.1/DTD/svg11.dtd\">\r\n",
       "<!-- Generated by graphviz version 2.38.0 (20140413.2041)\r\n",
       " -->\r\n",
       "<!-- Title: Tree Pages: 1 -->\r\n",
       "<svg width=\"1286pt\" height=\"477pt\"\r\n",
       " viewBox=\"0.00 0.00 1285.50 477.00\" xmlns=\"http://www.w3.org/2000/svg\" xmlns:xlink=\"http://www.w3.org/1999/xlink\">\r\n",
       "<g id=\"graph0\" class=\"graph\" transform=\"scale(1 1) rotate(0) translate(4 473)\">\r\n",
       "<title>Tree</title>\r\n",
       "<polygon fill=\"white\" stroke=\"none\" points=\"-4,4 -4,-473 1281.5,-473 1281.5,4 -4,4\"/>\r\n",
       "<!-- 0 -->\r\n",
       "<g id=\"node1\" class=\"node\"><title>0</title>\r\n",
       "<path fill=\"#e58139\" fill-opacity=\"0.376471\" stroke=\"black\" d=\"M670,-469C670,-469 553,-469 553,-469 547,-469 541,-463 541,-457 541,-457 541,-413 541,-413 541,-407 547,-401 553,-401 553,-401 670,-401 670,-401 676,-401 682,-407 682,-413 682,-413 682,-457 682,-457 682,-463 676,-469 670,-469\"/>\r\n",
       "<text text-anchor=\"start\" x=\"549\" y=\"-453.8\" font-family=\"Helvetica,sans-Serif\" font-size=\"14.00\">Sex_encoded ≤ 0.5</text>\r\n",
       "<text text-anchor=\"start\" x=\"574\" y=\"-438.8\" font-family=\"Helvetica,sans-Serif\" font-size=\"14.00\">gini = 0.473</text>\r\n",
       "<text text-anchor=\"start\" x=\"564\" y=\"-423.8\" font-family=\"Helvetica,sans-Serif\" font-size=\"14.00\">samples = 712</text>\r\n",
       "<text text-anchor=\"start\" x=\"554.5\" y=\"-408.8\" font-family=\"Helvetica,sans-Serif\" font-size=\"14.00\">value = [439, 273]</text>\r\n",
       "</g>\r\n",
       "<!-- 1 -->\r\n",
       "<g id=\"node2\" class=\"node\"><title>1</title>\r\n",
       "<path fill=\"#399de5\" fill-opacity=\"0.650980\" stroke=\"black\" d=\"M572,-365C572,-365 437,-365 437,-365 431,-365 425,-359 425,-353 425,-353 425,-309 425,-309 425,-303 431,-297 437,-297 437,-297 572,-297 572,-297 578,-297 584,-303 584,-309 584,-309 584,-353 584,-353 584,-359 578,-365 572,-365\"/>\r\n",
       "<text text-anchor=\"start\" x=\"433\" y=\"-349.8\" font-family=\"Helvetica,sans-Serif\" font-size=\"14.00\">Pclass_encoded ≤ 1.5</text>\r\n",
       "<text text-anchor=\"start\" x=\"467\" y=\"-334.8\" font-family=\"Helvetica,sans-Serif\" font-size=\"14.00\">gini = 0.383</text>\r\n",
       "<text text-anchor=\"start\" x=\"457\" y=\"-319.8\" font-family=\"Helvetica,sans-Serif\" font-size=\"14.00\">samples = 252</text>\r\n",
       "<text text-anchor=\"start\" x=\"451.5\" y=\"-304.8\" font-family=\"Helvetica,sans-Serif\" font-size=\"14.00\">value = [65, 187]</text>\r\n",
       "</g>\r\n",
       "<!-- 0&#45;&gt;1 -->\r\n",
       "<g id=\"edge1\" class=\"edge\"><title>0&#45;&gt;1</title>\r\n",
       "<path fill=\"none\" stroke=\"black\" d=\"M576.76,-400.884C567.229,-391.798 556.789,-381.845 546.881,-372.4\"/>\r\n",
       "<polygon fill=\"black\" stroke=\"black\" points=\"549.085,-369.666 539.432,-365.299 544.255,-374.733 549.085,-369.666\"/>\r\n",
       "<text text-anchor=\"middle\" x=\"540.03\" y=\"-386.592\" font-family=\"Helvetica,sans-Serif\" font-size=\"14.00\">True</text>\r\n",
       "</g>\r\n",
       "<!-- 14 -->\r\n",
       "<g id=\"node15\" class=\"node\"><title>14</title>\r\n",
       "<path fill=\"#e58139\" fill-opacity=\"0.768627\" stroke=\"black\" d=\"M786,-365C786,-365 651,-365 651,-365 645,-365 639,-359 639,-353 639,-353 639,-309 639,-309 639,-303 645,-297 651,-297 651,-297 786,-297 786,-297 792,-297 798,-303 798,-309 798,-309 798,-353 798,-353 798,-359 792,-365 786,-365\"/>\r\n",
       "<text text-anchor=\"start\" x=\"647\" y=\"-349.8\" font-family=\"Helvetica,sans-Serif\" font-size=\"14.00\">Pclass_encoded ≤ 0.5</text>\r\n",
       "<text text-anchor=\"start\" x=\"681\" y=\"-334.8\" font-family=\"Helvetica,sans-Serif\" font-size=\"14.00\">gini = 0.304</text>\r\n",
       "<text text-anchor=\"start\" x=\"671\" y=\"-319.8\" font-family=\"Helvetica,sans-Serif\" font-size=\"14.00\">samples = 460</text>\r\n",
       "<text text-anchor=\"start\" x=\"665.5\" y=\"-304.8\" font-family=\"Helvetica,sans-Serif\" font-size=\"14.00\">value = [374, 86]</text>\r\n",
       "</g>\r\n",
       "<!-- 0&#45;&gt;14 -->\r\n",
       "<g id=\"edge14\" class=\"edge\"><title>0&#45;&gt;14</title>\r\n",
       "<path fill=\"none\" stroke=\"black\" d=\"M646.24,-400.884C655.771,-391.798 666.211,-381.845 676.119,-372.4\"/>\r\n",
       "<polygon fill=\"black\" stroke=\"black\" points=\"678.745,-374.733 683.568,-365.299 673.915,-369.666 678.745,-374.733\"/>\r\n",
       "<text text-anchor=\"middle\" x=\"682.97\" y=\"-386.592\" font-family=\"Helvetica,sans-Serif\" font-size=\"14.00\">False</text>\r\n",
       "</g>\r\n",
       "<!-- 2 -->\r\n",
       "<g id=\"node3\" class=\"node\"><title>2</title>\r\n",
       "<path fill=\"#399de5\" fill-opacity=\"0.929412\" stroke=\"black\" d=\"M346,-261C346,-261 257,-261 257,-261 251,-261 245,-255 245,-249 245,-249 245,-205 245,-205 245,-199 251,-193 257,-193 257,-193 346,-193 346,-193 352,-193 358,-199 358,-205 358,-205 358,-249 358,-249 358,-255 352,-261 346,-261\"/>\r\n",
       "<text text-anchor=\"start\" x=\"256.5\" y=\"-245.8\" font-family=\"Helvetica,sans-Serif\" font-size=\"14.00\">Fare ≤ 29.356</text>\r\n",
       "<text text-anchor=\"start\" x=\"264\" y=\"-230.8\" font-family=\"Helvetica,sans-Serif\" font-size=\"14.00\">gini = 0.124</text>\r\n",
       "<text text-anchor=\"start\" x=\"254\" y=\"-215.8\" font-family=\"Helvetica,sans-Serif\" font-size=\"14.00\">samples = 136</text>\r\n",
       "<text text-anchor=\"start\" x=\"253\" y=\"-200.8\" font-family=\"Helvetica,sans-Serif\" font-size=\"14.00\">value = [9, 127]</text>\r\n",
       "</g>\r\n",
       "<!-- 1&#45;&gt;2 -->\r\n",
       "<g id=\"edge2\" class=\"edge\"><title>1&#45;&gt;2</title>\r\n",
       "<path fill=\"none\" stroke=\"black\" d=\"M438.592,-296.884C415.698,-285.38 390.038,-272.487 367.164,-260.994\"/>\r\n",
       "<polygon fill=\"black\" stroke=\"black\" points=\"368.722,-257.86 358.215,-256.497 365.58,-264.115 368.722,-257.86\"/>\r\n",
       "</g>\r\n",
       "<!-- 9 -->\r\n",
       "<g id=\"node10\" class=\"node\"><title>9</title>\r\n",
       "<path fill=\"#399de5\" fill-opacity=\"0.066667\" stroke=\"black\" d=\"M583.5,-261C583.5,-261 425.5,-261 425.5,-261 419.5,-261 413.5,-255 413.5,-249 413.5,-249 413.5,-205 413.5,-205 413.5,-199 419.5,-193 425.5,-193 425.5,-193 583.5,-193 583.5,-193 589.5,-193 595.5,-199 595.5,-205 595.5,-205 595.5,-249 595.5,-249 595.5,-255 589.5,-261 583.5,-261\"/>\r\n",
       "<text text-anchor=\"start\" x=\"421.5\" y=\"-245.8\" font-family=\"Helvetica,sans-Serif\" font-size=\"14.00\">Embarked_encoded ≤ 1.5</text>\r\n",
       "<text text-anchor=\"start\" x=\"467\" y=\"-230.8\" font-family=\"Helvetica,sans-Serif\" font-size=\"14.00\">gini = 0.499</text>\r\n",
       "<text text-anchor=\"start\" x=\"457\" y=\"-215.8\" font-family=\"Helvetica,sans-Serif\" font-size=\"14.00\">samples = 116</text>\r\n",
       "<text text-anchor=\"start\" x=\"456\" y=\"-200.8\" font-family=\"Helvetica,sans-Serif\" font-size=\"14.00\">value = [56, 60]</text>\r\n",
       "</g>\r\n",
       "<!-- 1&#45;&gt;9 -->\r\n",
       "<g id=\"edge9\" class=\"edge\"><title>1&#45;&gt;9</title>\r\n",
       "<path fill=\"none\" stroke=\"black\" d=\"M504.5,-296.884C504.5,-288.778 504.5,-279.982 504.5,-271.472\"/>\r\n",
       "<polygon fill=\"black\" stroke=\"black\" points=\"508,-271.299 504.5,-261.299 501,-271.299 508,-271.299\"/>\r\n",
       "</g>\r\n",
       "<!-- 3 -->\r\n",
       "<g id=\"node4\" class=\"node\"><title>3</title>\r\n",
       "<path fill=\"#399de5\" fill-opacity=\"0.858824\" stroke=\"black\" d=\"M214,-157C214,-157 133,-157 133,-157 127,-157 121,-151 121,-145 121,-145 121,-101 121,-101 121,-95 127,-89 133,-89 133,-89 214,-89 214,-89 220,-89 226,-95 226,-101 226,-101 226,-145 226,-145 226,-151 220,-157 214,-157\"/>\r\n",
       "<text text-anchor=\"start\" x=\"138.5\" y=\"-141.8\" font-family=\"Helvetica,sans-Serif\" font-size=\"14.00\">Age ≤ 30.5</text>\r\n",
       "<text text-anchor=\"start\" x=\"136\" y=\"-126.8\" font-family=\"Helvetica,sans-Serif\" font-size=\"14.00\">gini = 0.215</text>\r\n",
       "<text text-anchor=\"start\" x=\"130\" y=\"-111.8\" font-family=\"Helvetica,sans-Serif\" font-size=\"14.00\">samples = 57</text>\r\n",
       "<text text-anchor=\"start\" x=\"129\" y=\"-96.8\" font-family=\"Helvetica,sans-Serif\" font-size=\"14.00\">value = [7, 50]</text>\r\n",
       "</g>\r\n",
       "<!-- 2&#45;&gt;3 -->\r\n",
       "<g id=\"edge3\" class=\"edge\"><title>2&#45;&gt;3</title>\r\n",
       "<path fill=\"none\" stroke=\"black\" d=\"M259.942,-192.884C248.205,-183.531 235.316,-173.259 223.154,-163.568\"/>\r\n",
       "<polygon fill=\"black\" stroke=\"black\" points=\"225.289,-160.794 215.287,-157.299 220.927,-166.269 225.289,-160.794\"/>\r\n",
       "</g>\r\n",
       "<!-- 6 -->\r\n",
       "<g id=\"node7\" class=\"node\"><title>6</title>\r\n",
       "<path fill=\"#399de5\" fill-opacity=\"0.972549\" stroke=\"black\" d=\"M346.5,-157C346.5,-157 256.5,-157 256.5,-157 250.5,-157 244.5,-151 244.5,-145 244.5,-145 244.5,-101 244.5,-101 244.5,-95 250.5,-89 256.5,-89 256.5,-89 346.5,-89 346.5,-89 352.5,-89 358.5,-95 358.5,-101 358.5,-101 358.5,-145 358.5,-145 358.5,-151 352.5,-157 346.5,-157\"/>\r\n",
       "<text text-anchor=\"start\" x=\"252.5\" y=\"-141.8\" font-family=\"Helvetica,sans-Serif\" font-size=\"14.00\">Fare ≤ 112.079</text>\r\n",
       "<text text-anchor=\"start\" x=\"264\" y=\"-126.8\" font-family=\"Helvetica,sans-Serif\" font-size=\"14.00\">gini = 0.049</text>\r\n",
       "<text text-anchor=\"start\" x=\"258\" y=\"-111.8\" font-family=\"Helvetica,sans-Serif\" font-size=\"14.00\">samples = 79</text>\r\n",
       "<text text-anchor=\"start\" x=\"257\" y=\"-96.8\" font-family=\"Helvetica,sans-Serif\" font-size=\"14.00\">value = [2, 77]</text>\r\n",
       "</g>\r\n",
       "<!-- 2&#45;&gt;6 -->\r\n",
       "<g id=\"edge6\" class=\"edge\"><title>2&#45;&gt;6</title>\r\n",
       "<path fill=\"none\" stroke=\"black\" d=\"M301.5,-192.884C301.5,-184.778 301.5,-175.982 301.5,-167.472\"/>\r\n",
       "<polygon fill=\"black\" stroke=\"black\" points=\"305,-167.299 301.5,-157.299 298,-167.299 305,-167.299\"/>\r\n",
       "</g>\r\n",
       "<!-- 4 -->\r\n",
       "<g id=\"node5\" class=\"node\"><title>4</title>\r\n",
       "<path fill=\"#399de5\" fill-opacity=\"0.898039\" stroke=\"black\" d=\"M93,-53C93,-53 12,-53 12,-53 6,-53 0,-47 0,-41 0,-41 0,-12 0,-12 0,-6 6,-0 12,-0 12,-0 93,-0 93,-0 99,-0 105,-6 105,-12 105,-12 105,-41 105,-41 105,-47 99,-53 93,-53\"/>\r\n",
       "<text text-anchor=\"start\" x=\"19\" y=\"-37.8\" font-family=\"Helvetica,sans-Serif\" font-size=\"14.00\">gini = 0.17</text>\r\n",
       "<text text-anchor=\"start\" x=\"9\" y=\"-22.8\" font-family=\"Helvetica,sans-Serif\" font-size=\"14.00\">samples = 32</text>\r\n",
       "<text text-anchor=\"start\" x=\"8\" y=\"-7.8\" font-family=\"Helvetica,sans-Serif\" font-size=\"14.00\">value = [3, 29]</text>\r\n",
       "</g>\r\n",
       "<!-- 3&#45;&gt;4 -->\r\n",
       "<g id=\"edge4\" class=\"edge\"><title>3&#45;&gt;4</title>\r\n",
       "<path fill=\"none\" stroke=\"black\" d=\"M131.18,-88.9485C118.998,-79.4346 105.732,-69.074 93.624,-59.6175\"/>\r\n",
       "<polygon fill=\"black\" stroke=\"black\" points=\"95.4895,-56.6335 85.4539,-53.2367 91.1808,-62.1504 95.4895,-56.6335\"/>\r\n",
       "</g>\r\n",
       "<!-- 5 -->\r\n",
       "<g id=\"node6\" class=\"node\"><title>5</title>\r\n",
       "<path fill=\"#399de5\" fill-opacity=\"0.807843\" stroke=\"black\" d=\"M216,-53C216,-53 135,-53 135,-53 129,-53 123,-47 123,-41 123,-41 123,-12 123,-12 123,-6 129,-0 135,-0 135,-0 216,-0 216,-0 222,-0 228,-6 228,-12 228,-12 228,-41 228,-41 228,-47 222,-53 216,-53\"/>\r\n",
       "<text text-anchor=\"start\" x=\"138\" y=\"-37.8\" font-family=\"Helvetica,sans-Serif\" font-size=\"14.00\">gini = 0.269</text>\r\n",
       "<text text-anchor=\"start\" x=\"132\" y=\"-22.8\" font-family=\"Helvetica,sans-Serif\" font-size=\"14.00\">samples = 25</text>\r\n",
       "<text text-anchor=\"start\" x=\"131\" y=\"-7.8\" font-family=\"Helvetica,sans-Serif\" font-size=\"14.00\">value = [4, 21]</text>\r\n",
       "</g>\r\n",
       "<!-- 3&#45;&gt;5 -->\r\n",
       "<g id=\"edge5\" class=\"edge\"><title>3&#45;&gt;5</title>\r\n",
       "<path fill=\"none\" stroke=\"black\" d=\"M174.2,-88.9485C174.374,-80.7153 174.561,-71.848 174.738,-63.4814\"/>\r\n",
       "<polygon fill=\"black\" stroke=\"black\" points=\"178.243,-63.3086 174.955,-53.2367 171.244,-63.1604 178.243,-63.3086\"/>\r\n",
       "</g>\r\n",
       "<!-- 7 -->\r\n",
       "<g id=\"node8\" class=\"node\"><title>7</title>\r\n",
       "<path fill=\"#399de5\" stroke=\"black\" d=\"M341,-53C341,-53 260,-53 260,-53 254,-53 248,-47 248,-41 248,-41 248,-12 248,-12 248,-6 254,-0 260,-0 260,-0 341,-0 341,-0 347,-0 353,-6 353,-12 353,-12 353,-41 353,-41 353,-47 347,-53 341,-53\"/>\r\n",
       "<text text-anchor=\"start\" x=\"271.5\" y=\"-37.8\" font-family=\"Helvetica,sans-Serif\" font-size=\"14.00\">gini = 0.0</text>\r\n",
       "<text text-anchor=\"start\" x=\"257\" y=\"-22.8\" font-family=\"Helvetica,sans-Serif\" font-size=\"14.00\">samples = 53</text>\r\n",
       "<text text-anchor=\"start\" x=\"256\" y=\"-7.8\" font-family=\"Helvetica,sans-Serif\" font-size=\"14.00\">value = [0, 53]</text>\r\n",
       "</g>\r\n",
       "<!-- 6&#45;&gt;7 -->\r\n",
       "<g id=\"edge7\" class=\"edge\"><title>6&#45;&gt;7</title>\r\n",
       "<path fill=\"none\" stroke=\"black\" d=\"M301.15,-88.9485C301.063,-80.7153 300.969,-71.848 300.881,-63.4814\"/>\r\n",
       "<polygon fill=\"black\" stroke=\"black\" points=\"304.378,-63.1991 300.772,-53.2367 297.378,-63.2732 304.378,-63.1991\"/>\r\n",
       "</g>\r\n",
       "<!-- 8 -->\r\n",
       "<g id=\"node9\" class=\"node\"><title>8</title>\r\n",
       "<path fill=\"#399de5\" fill-opacity=\"0.917647\" stroke=\"black\" d=\"M464,-53C464,-53 383,-53 383,-53 377,-53 371,-47 371,-41 371,-41 371,-12 371,-12 371,-6 377,-0 383,-0 383,-0 464,-0 464,-0 470,-0 476,-6 476,-12 476,-12 476,-41 476,-41 476,-47 470,-53 464,-53\"/>\r\n",
       "<text text-anchor=\"start\" x=\"386\" y=\"-37.8\" font-family=\"Helvetica,sans-Serif\" font-size=\"14.00\">gini = 0.142</text>\r\n",
       "<text text-anchor=\"start\" x=\"380\" y=\"-22.8\" font-family=\"Helvetica,sans-Serif\" font-size=\"14.00\">samples = 26</text>\r\n",
       "<text text-anchor=\"start\" x=\"379\" y=\"-7.8\" font-family=\"Helvetica,sans-Serif\" font-size=\"14.00\">value = [2, 24]</text>\r\n",
       "</g>\r\n",
       "<!-- 6&#45;&gt;8 -->\r\n",
       "<g id=\"edge8\" class=\"edge\"><title>6&#45;&gt;8</title>\r\n",
       "<path fill=\"none\" stroke=\"black\" d=\"M344.17,-88.9485C356.452,-79.4346 369.828,-69.074 382.036,-59.6175\"/>\r\n",
       "<polygon fill=\"black\" stroke=\"black\" points=\"384.511,-62.1274 390.274,-53.2367 380.225,-56.5934 384.511,-62.1274\"/>\r\n",
       "</g>\r\n",
       "<!-- 10 -->\r\n",
       "<g id=\"node11\" class=\"node\"><title>10</title>\r\n",
       "<path fill=\"#399de5\" fill-opacity=\"0.607843\" stroke=\"black\" d=\"M478,-149.5C478,-149.5 389,-149.5 389,-149.5 383,-149.5 377,-143.5 377,-137.5 377,-137.5 377,-108.5 377,-108.5 377,-102.5 383,-96.5 389,-96.5 389,-96.5 478,-96.5 478,-96.5 484,-96.5 490,-102.5 490,-108.5 490,-108.5 490,-137.5 490,-137.5 490,-143.5 484,-149.5 478,-149.5\"/>\r\n",
       "<text text-anchor=\"start\" x=\"396\" y=\"-134.3\" font-family=\"Helvetica,sans-Serif\" font-size=\"14.00\">gini = 0.405</text>\r\n",
       "<text text-anchor=\"start\" x=\"390\" y=\"-119.3\" font-family=\"Helvetica,sans-Serif\" font-size=\"14.00\">samples = 46</text>\r\n",
       "<text text-anchor=\"start\" x=\"385\" y=\"-104.3\" font-family=\"Helvetica,sans-Serif\" font-size=\"14.00\">value = [13, 33]</text>\r\n",
       "</g>\r\n",
       "<!-- 9&#45;&gt;10 -->\r\n",
       "<g id=\"edge10\" class=\"edge\"><title>9&#45;&gt;10</title>\r\n",
       "<path fill=\"none\" stroke=\"black\" d=\"M481.448,-192.884C473.64,-181.666 464.911,-169.126 457.064,-157.852\"/>\r\n",
       "<polygon fill=\"black\" stroke=\"black\" points=\"459.85,-155.728 451.264,-149.52 454.104,-159.727 459.85,-155.728\"/>\r\n",
       "</g>\r\n",
       "<!-- 11 -->\r\n",
       "<g id=\"node12\" class=\"node\"><title>11</title>\r\n",
       "<path fill=\"#e58139\" fill-opacity=\"0.372549\" stroke=\"black\" d=\"M609,-157C609,-157 520,-157 520,-157 514,-157 508,-151 508,-145 508,-145 508,-101 508,-101 508,-95 514,-89 520,-89 520,-89 609,-89 609,-89 615,-89 621,-95 621,-101 621,-101 621,-145 621,-145 621,-151 615,-157 609,-157\"/>\r\n",
       "<text text-anchor=\"start\" x=\"528\" y=\"-141.8\" font-family=\"Helvetica,sans-Serif\" font-size=\"14.00\">Fare ≤ 17.6</text>\r\n",
       "<text text-anchor=\"start\" x=\"527\" y=\"-126.8\" font-family=\"Helvetica,sans-Serif\" font-size=\"14.00\">gini = 0.474</text>\r\n",
       "<text text-anchor=\"start\" x=\"521\" y=\"-111.8\" font-family=\"Helvetica,sans-Serif\" font-size=\"14.00\">samples = 70</text>\r\n",
       "<text text-anchor=\"start\" x=\"516\" y=\"-96.8\" font-family=\"Helvetica,sans-Serif\" font-size=\"14.00\">value = [43, 27]</text>\r\n",
       "</g>\r\n",
       "<!-- 9&#45;&gt;11 -->\r\n",
       "<g id=\"edge11\" class=\"edge\"><title>9&#45;&gt;11</title>\r\n",
       "<path fill=\"none\" stroke=\"black\" d=\"M523.98,-192.884C529.01,-184.332 534.492,-175.013 539.752,-166.072\"/>\r\n",
       "<polygon fill=\"black\" stroke=\"black\" points=\"542.859,-167.693 544.912,-157.299 536.825,-164.144 542.859,-167.693\"/>\r\n",
       "</g>\r\n",
       "<!-- 12 -->\r\n",
       "<g id=\"node13\" class=\"node\"><title>12</title>\r\n",
       "<path fill=\"#399de5\" fill-opacity=\"0.137255\" stroke=\"black\" d=\"M602,-53C602,-53 513,-53 513,-53 507,-53 501,-47 501,-41 501,-41 501,-12 501,-12 501,-6 507,-0 513,-0 513,-0 602,-0 602,-0 608,-0 614,-6 614,-12 614,-12 614,-41 614,-41 614,-47 608,-53 602,-53\"/>\r\n",
       "<text text-anchor=\"start\" x=\"520\" y=\"-37.8\" font-family=\"Helvetica,sans-Serif\" font-size=\"14.00\">gini = 0.497</text>\r\n",
       "<text text-anchor=\"start\" x=\"514\" y=\"-22.8\" font-family=\"Helvetica,sans-Serif\" font-size=\"14.00\">samples = 41</text>\r\n",
       "<text text-anchor=\"start\" x=\"509\" y=\"-7.8\" font-family=\"Helvetica,sans-Serif\" font-size=\"14.00\">value = [19, 22]</text>\r\n",
       "</g>\r\n",
       "<!-- 11&#45;&gt;12 -->\r\n",
       "<g id=\"edge12\" class=\"edge\"><title>11&#45;&gt;12</title>\r\n",
       "<path fill=\"none\" stroke=\"black\" d=\"M562.052,-88.9485C561.442,-80.7153 560.785,-71.848 560.165,-63.4814\"/>\r\n",
       "<polygon fill=\"black\" stroke=\"black\" points=\"563.636,-62.9508 559.406,-53.2367 556.655,-63.468 563.636,-62.9508\"/>\r\n",
       "</g>\r\n",
       "<!-- 13 -->\r\n",
       "<g id=\"node14\" class=\"node\"><title>13</title>\r\n",
       "<path fill=\"#e58139\" fill-opacity=\"0.792157\" stroke=\"black\" d=\"M725,-53C725,-53 644,-53 644,-53 638,-53 632,-47 632,-41 632,-41 632,-12 632,-12 632,-6 638,-0 644,-0 644,-0 725,-0 725,-0 731,-0 737,-6 737,-12 737,-12 737,-41 737,-41 737,-47 731,-53 725,-53\"/>\r\n",
       "<text text-anchor=\"start\" x=\"647\" y=\"-37.8\" font-family=\"Helvetica,sans-Serif\" font-size=\"14.00\">gini = 0.285</text>\r\n",
       "<text text-anchor=\"start\" x=\"641\" y=\"-22.8\" font-family=\"Helvetica,sans-Serif\" font-size=\"14.00\">samples = 29</text>\r\n",
       "<text text-anchor=\"start\" x=\"640\" y=\"-7.8\" font-family=\"Helvetica,sans-Serif\" font-size=\"14.00\">value = [24, 5]</text>\r\n",
       "</g>\r\n",
       "<!-- 11&#45;&gt;13 -->\r\n",
       "<g id=\"edge13\" class=\"edge\"><title>11&#45;&gt;13</title>\r\n",
       "<path fill=\"none\" stroke=\"black\" d=\"M606.47,-88.9485C618.551,-79.4346 631.708,-69.074 643.716,-59.6175\"/>\r\n",
       "<polygon fill=\"black\" stroke=\"black\" points=\"646.128,-62.1734 651.818,-53.2367 641.797,-56.6739 646.128,-62.1734\"/>\r\n",
       "</g>\r\n",
       "<!-- 15 -->\r\n",
       "<g id=\"node16\" class=\"node\"><title>15</title>\r\n",
       "<path fill=\"#e58139\" fill-opacity=\"0.450980\" stroke=\"black\" d=\"M763,-261C763,-261 674,-261 674,-261 668,-261 662,-255 662,-249 662,-249 662,-205 662,-205 662,-199 668,-193 674,-193 674,-193 763,-193 763,-193 769,-193 775,-199 775,-205 775,-205 775,-249 775,-249 775,-255 769,-261 763,-261\"/>\r\n",
       "<text text-anchor=\"start\" x=\"683.5\" y=\"-245.8\" font-family=\"Helvetica,sans-Serif\" font-size=\"14.00\">Age ≤ 36.5</text>\r\n",
       "<text text-anchor=\"start\" x=\"681\" y=\"-230.8\" font-family=\"Helvetica,sans-Serif\" font-size=\"14.00\">gini = 0.457</text>\r\n",
       "<text text-anchor=\"start\" x=\"675\" y=\"-215.8\" font-family=\"Helvetica,sans-Serif\" font-size=\"14.00\">samples = 96</text>\r\n",
       "<text text-anchor=\"start\" x=\"670\" y=\"-200.8\" font-family=\"Helvetica,sans-Serif\" font-size=\"14.00\">value = [62, 34]</text>\r\n",
       "</g>\r\n",
       "<!-- 14&#45;&gt;15 -->\r\n",
       "<g id=\"edge15\" class=\"edge\"><title>14&#45;&gt;15</title>\r\n",
       "<path fill=\"none\" stroke=\"black\" d=\"M718.5,-296.884C718.5,-288.778 718.5,-279.982 718.5,-271.472\"/>\r\n",
       "<polygon fill=\"black\" stroke=\"black\" points=\"722,-271.299 718.5,-261.299 715,-271.299 722,-271.299\"/>\r\n",
       "</g>\r\n",
       "<!-- 20 -->\r\n",
       "<g id=\"node21\" class=\"node\"><title>20</title>\r\n",
       "<path fill=\"#e58139\" fill-opacity=\"0.831373\" stroke=\"black\" d=\"M1006.5,-261C1006.5,-261 908.5,-261 908.5,-261 902.5,-261 896.5,-255 896.5,-249 896.5,-249 896.5,-205 896.5,-205 896.5,-199 902.5,-193 908.5,-193 908.5,-193 1006.5,-193 1006.5,-193 1012.5,-193 1018.5,-199 1018.5,-205 1018.5,-205 1018.5,-249 1018.5,-249 1018.5,-255 1012.5,-261 1006.5,-261\"/>\r\n",
       "<text text-anchor=\"start\" x=\"914\" y=\"-245.8\" font-family=\"Helvetica,sans-Serif\" font-size=\"14.00\">Age ≤ 12.842</text>\r\n",
       "<text text-anchor=\"start\" x=\"920\" y=\"-230.8\" font-family=\"Helvetica,sans-Serif\" font-size=\"14.00\">gini = 0.245</text>\r\n",
       "<text text-anchor=\"start\" x=\"910\" y=\"-215.8\" font-family=\"Helvetica,sans-Serif\" font-size=\"14.00\">samples = 364</text>\r\n",
       "<text text-anchor=\"start\" x=\"904.5\" y=\"-200.8\" font-family=\"Helvetica,sans-Serif\" font-size=\"14.00\">value = [312, 52]</text>\r\n",
       "</g>\r\n",
       "<!-- 14&#45;&gt;20 -->\r\n",
       "<g id=\"edge20\" class=\"edge\"><title>14&#45;&gt;20</title>\r\n",
       "<path fill=\"none\" stroke=\"black\" d=\"M796.096,-296.884C825.242,-284.445 858.194,-270.381 886.691,-258.22\"/>\r\n",
       "<polygon fill=\"black\" stroke=\"black\" points=\"888.349,-261.318 896.172,-254.173 885.601,-254.88 888.349,-261.318\"/>\r\n",
       "</g>\r\n",
       "<!-- 16 -->\r\n",
       "<g id=\"node17\" class=\"node\"><title>16</title>\r\n",
       "<path fill=\"#e58139\" fill-opacity=\"0.125490\" stroke=\"black\" d=\"M740,-149.5C740,-149.5 651,-149.5 651,-149.5 645,-149.5 639,-143.5 639,-137.5 639,-137.5 639,-108.5 639,-108.5 639,-102.5 645,-96.5 651,-96.5 651,-96.5 740,-96.5 740,-96.5 746,-96.5 752,-102.5 752,-108.5 752,-108.5 752,-137.5 752,-137.5 752,-143.5 746,-149.5 740,-149.5\"/>\r\n",
       "<text text-anchor=\"start\" x=\"658\" y=\"-134.3\" font-family=\"Helvetica,sans-Serif\" font-size=\"14.00\">gini = 0.498</text>\r\n",
       "<text text-anchor=\"start\" x=\"652\" y=\"-119.3\" font-family=\"Helvetica,sans-Serif\" font-size=\"14.00\">samples = 45</text>\r\n",
       "<text text-anchor=\"start\" x=\"647\" y=\"-104.3\" font-family=\"Helvetica,sans-Serif\" font-size=\"14.00\">value = [24, 21]</text>\r\n",
       "</g>\r\n",
       "<!-- 15&#45;&gt;16 -->\r\n",
       "<g id=\"edge16\" class=\"edge\"><title>15&#45;&gt;16</title>\r\n",
       "<path fill=\"none\" stroke=\"black\" d=\"M711.033,-192.884C708.627,-182.216 705.952,-170.352 703.509,-159.519\"/>\r\n",
       "<polygon fill=\"black\" stroke=\"black\" points=\"706.869,-158.505 701.254,-149.52 700.04,-160.045 706.869,-158.505\"/>\r\n",
       "</g>\r\n",
       "<!-- 17 -->\r\n",
       "<g id=\"node18\" class=\"node\"><title>17</title>\r\n",
       "<path fill=\"#e58139\" fill-opacity=\"0.658824\" stroke=\"black\" d=\"M871,-157C871,-157 782,-157 782,-157 776,-157 770,-151 770,-145 770,-145 770,-101 770,-101 770,-95 776,-89 782,-89 782,-89 871,-89 871,-89 877,-89 883,-95 883,-101 883,-101 883,-145 883,-145 883,-151 877,-157 871,-157\"/>\r\n",
       "<text text-anchor=\"start\" x=\"791.5\" y=\"-141.8\" font-family=\"Helvetica,sans-Serif\" font-size=\"14.00\">Age ≤ 49.5</text>\r\n",
       "<text text-anchor=\"start\" x=\"793\" y=\"-126.8\" font-family=\"Helvetica,sans-Serif\" font-size=\"14.00\">gini = 0.38</text>\r\n",
       "<text text-anchor=\"start\" x=\"783\" y=\"-111.8\" font-family=\"Helvetica,sans-Serif\" font-size=\"14.00\">samples = 51</text>\r\n",
       "<text text-anchor=\"start\" x=\"778\" y=\"-96.8\" font-family=\"Helvetica,sans-Serif\" font-size=\"14.00\">value = [38, 13]</text>\r\n",
       "</g>\r\n",
       "<!-- 15&#45;&gt;17 -->\r\n",
       "<g id=\"edge17\" class=\"edge\"><title>15&#45;&gt;17</title>\r\n",
       "<path fill=\"none\" stroke=\"black\" d=\"M753.565,-192.884C763.184,-183.798 773.722,-173.845 783.723,-164.4\"/>\r\n",
       "<polygon fill=\"black\" stroke=\"black\" points=\"786.375,-166.71 791.242,-157.299 781.569,-161.621 786.375,-166.71\"/>\r\n",
       "</g>\r\n",
       "<!-- 18 -->\r\n",
       "<g id=\"node19\" class=\"node\"><title>18</title>\r\n",
       "<path fill=\"#e58139\" fill-opacity=\"0.631373\" stroke=\"black\" d=\"M858,-53C858,-53 777,-53 777,-53 771,-53 765,-47 765,-41 765,-41 765,-12 765,-12 765,-6 771,-0 777,-0 777,-0 858,-0 858,-0 864,-0 870,-6 870,-12 870,-12 870,-41 870,-41 870,-47 864,-53 858,-53\"/>\r\n",
       "<text text-anchor=\"start\" x=\"780\" y=\"-37.8\" font-family=\"Helvetica,sans-Serif\" font-size=\"14.00\">gini = 0.393</text>\r\n",
       "<text text-anchor=\"start\" x=\"774\" y=\"-22.8\" font-family=\"Helvetica,sans-Serif\" font-size=\"14.00\">samples = 26</text>\r\n",
       "<text text-anchor=\"start\" x=\"773\" y=\"-7.8\" font-family=\"Helvetica,sans-Serif\" font-size=\"14.00\">value = [19, 7]</text>\r\n",
       "</g>\r\n",
       "<!-- 17&#45;&gt;18 -->\r\n",
       "<g id=\"edge18\" class=\"edge\"><title>17&#45;&gt;18</title>\r\n",
       "<path fill=\"none\" stroke=\"black\" d=\"M823.352,-88.9485C822.559,-80.6238 821.705,-71.6509 820.9,-63.2027\"/>\r\n",
       "<polygon fill=\"black\" stroke=\"black\" points=\"824.384,-62.8598 819.951,-53.2367 817.415,-63.5235 824.384,-62.8598\"/>\r\n",
       "</g>\r\n",
       "<!-- 19 -->\r\n",
       "<g id=\"node20\" class=\"node\"><title>19</title>\r\n",
       "<path fill=\"#e58139\" fill-opacity=\"0.682353\" stroke=\"black\" d=\"M981,-53C981,-53 900,-53 900,-53 894,-53 888,-47 888,-41 888,-41 888,-12 888,-12 888,-6 894,-0 900,-0 900,-0 981,-0 981,-0 987,-0 993,-6 993,-12 993,-12 993,-41 993,-41 993,-47 987,-53 981,-53\"/>\r\n",
       "<text text-anchor=\"start\" x=\"903\" y=\"-37.8\" font-family=\"Helvetica,sans-Serif\" font-size=\"14.00\">gini = 0.365</text>\r\n",
       "<text text-anchor=\"start\" x=\"897\" y=\"-22.8\" font-family=\"Helvetica,sans-Serif\" font-size=\"14.00\">samples = 25</text>\r\n",
       "<text text-anchor=\"start\" x=\"896\" y=\"-7.8\" font-family=\"Helvetica,sans-Serif\" font-size=\"14.00\">value = [19, 6]</text>\r\n",
       "</g>\r\n",
       "<!-- 17&#45;&gt;19 -->\r\n",
       "<g id=\"edge19\" class=\"edge\"><title>17&#45;&gt;19</title>\r\n",
       "<path fill=\"none\" stroke=\"black\" d=\"M866.372,-88.9485C877.738,-79.526 890.107,-69.2731 901.426,-59.8906\"/>\r\n",
       "<polygon fill=\"black\" stroke=\"black\" points=\"903.987,-62.3132 909.453,-53.2367 899.52,-56.924 903.987,-62.3132\"/>\r\n",
       "</g>\r\n",
       "<!-- 21 -->\r\n",
       "<g id=\"node22\" class=\"node\"><title>21</title>\r\n",
       "<path fill=\"#e58139\" fill-opacity=\"0.176471\" stroke=\"black\" d=\"M1002,-149.5C1002,-149.5 913,-149.5 913,-149.5 907,-149.5 901,-143.5 901,-137.5 901,-137.5 901,-108.5 901,-108.5 901,-102.5 907,-96.5 913,-96.5 913,-96.5 1002,-96.5 1002,-96.5 1008,-96.5 1014,-102.5 1014,-108.5 1014,-108.5 1014,-137.5 1014,-137.5 1014,-143.5 1008,-149.5 1002,-149.5\"/>\r\n",
       "<text text-anchor=\"start\" x=\"920\" y=\"-134.3\" font-family=\"Helvetica,sans-Serif\" font-size=\"14.00\">gini = 0.495</text>\r\n",
       "<text text-anchor=\"start\" x=\"914\" y=\"-119.3\" font-family=\"Helvetica,sans-Serif\" font-size=\"14.00\">samples = 31</text>\r\n",
       "<text text-anchor=\"start\" x=\"909\" y=\"-104.3\" font-family=\"Helvetica,sans-Serif\" font-size=\"14.00\">value = [17, 14]</text>\r\n",
       "</g>\r\n",
       "<!-- 20&#45;&gt;21 -->\r\n",
       "<g id=\"edge21\" class=\"edge\"><title>20&#45;&gt;21</title>\r\n",
       "<path fill=\"none\" stroke=\"black\" d=\"M957.5,-192.884C957.5,-182.326 957.5,-170.597 957.5,-159.854\"/>\r\n",
       "<polygon fill=\"black\" stroke=\"black\" points=\"961,-159.52 957.5,-149.52 954,-159.52 961,-159.52\"/>\r\n",
       "</g>\r\n",
       "<!-- 22 -->\r\n",
       "<g id=\"node23\" class=\"node\"><title>22</title>\r\n",
       "<path fill=\"#e58139\" fill-opacity=\"0.870588\" stroke=\"black\" d=\"M1142.5,-157C1142.5,-157 1044.5,-157 1044.5,-157 1038.5,-157 1032.5,-151 1032.5,-145 1032.5,-145 1032.5,-101 1032.5,-101 1032.5,-95 1038.5,-89 1044.5,-89 1044.5,-89 1142.5,-89 1142.5,-89 1148.5,-89 1154.5,-95 1154.5,-101 1154.5,-101 1154.5,-145 1154.5,-145 1154.5,-151 1148.5,-157 1142.5,-157\"/>\r\n",
       "<text text-anchor=\"start\" x=\"1058.5\" y=\"-141.8\" font-family=\"Helvetica,sans-Serif\" font-size=\"14.00\">Age ≤ 25.5</text>\r\n",
       "<text text-anchor=\"start\" x=\"1056\" y=\"-126.8\" font-family=\"Helvetica,sans-Serif\" font-size=\"14.00\">gini = 0.202</text>\r\n",
       "<text text-anchor=\"start\" x=\"1046\" y=\"-111.8\" font-family=\"Helvetica,sans-Serif\" font-size=\"14.00\">samples = 333</text>\r\n",
       "<text text-anchor=\"start\" x=\"1040.5\" y=\"-96.8\" font-family=\"Helvetica,sans-Serif\" font-size=\"14.00\">value = [295, 38]</text>\r\n",
       "</g>\r\n",
       "<!-- 20&#45;&gt;22 -->\r\n",
       "<g id=\"edge22\" class=\"edge\"><title>20&#45;&gt;22</title>\r\n",
       "<path fill=\"none\" stroke=\"black\" d=\"M1001.66,-192.884C1014.13,-183.531 1027.82,-173.259 1040.74,-163.568\"/>\r\n",
       "<polygon fill=\"black\" stroke=\"black\" points=\"1043.2,-166.099 1049.1,-157.299 1039,-160.499 1043.2,-166.099\"/>\r\n",
       "</g>\r\n",
       "<!-- 23 -->\r\n",
       "<g id=\"node24\" class=\"node\"><title>23</title>\r\n",
       "<path fill=\"#e58139\" fill-opacity=\"0.925490\" stroke=\"black\" d=\"M1125,-53C1125,-53 1036,-53 1036,-53 1030,-53 1024,-47 1024,-41 1024,-41 1024,-12 1024,-12 1024,-6 1030,-0 1036,-0 1036,-0 1125,-0 1125,-0 1131,-0 1137,-6 1137,-12 1137,-12 1137,-41 1137,-41 1137,-47 1131,-53 1125,-53\"/>\r\n",
       "<text text-anchor=\"start\" x=\"1047\" y=\"-37.8\" font-family=\"Helvetica,sans-Serif\" font-size=\"14.00\">gini = 0.13</text>\r\n",
       "<text text-anchor=\"start\" x=\"1033\" y=\"-22.8\" font-family=\"Helvetica,sans-Serif\" font-size=\"14.00\">samples = 129</text>\r\n",
       "<text text-anchor=\"start\" x=\"1032\" y=\"-7.8\" font-family=\"Helvetica,sans-Serif\" font-size=\"14.00\">value = [120, 9]</text>\r\n",
       "</g>\r\n",
       "<!-- 22&#45;&gt;23 -->\r\n",
       "<g id=\"edge23\" class=\"edge\"><title>22&#45;&gt;23</title>\r\n",
       "<path fill=\"none\" stroke=\"black\" d=\"M1088.95,-88.9485C1087.81,-80.6238 1086.57,-71.6509 1085.41,-63.2027\"/>\r\n",
       "<polygon fill=\"black\" stroke=\"black\" points=\"1088.87,-62.6664 1084.04,-53.2367 1081.94,-63.6204 1088.87,-62.6664\"/>\r\n",
       "</g>\r\n",
       "<!-- 24 -->\r\n",
       "<g id=\"node25\" class=\"node\"><title>24</title>\r\n",
       "<path fill=\"#e58139\" fill-opacity=\"0.835294\" stroke=\"black\" d=\"M1265.5,-53C1265.5,-53 1167.5,-53 1167.5,-53 1161.5,-53 1155.5,-47 1155.5,-41 1155.5,-41 1155.5,-12 1155.5,-12 1155.5,-6 1161.5,-0 1167.5,-0 1167.5,-0 1265.5,-0 1265.5,-0 1271.5,-0 1277.5,-6 1277.5,-12 1277.5,-12 1277.5,-41 1277.5,-41 1277.5,-47 1271.5,-53 1265.5,-53\"/>\r\n",
       "<text text-anchor=\"start\" x=\"1179\" y=\"-37.8\" font-family=\"Helvetica,sans-Serif\" font-size=\"14.00\">gini = 0.244</text>\r\n",
       "<text text-anchor=\"start\" x=\"1169\" y=\"-22.8\" font-family=\"Helvetica,sans-Serif\" font-size=\"14.00\">samples = 204</text>\r\n",
       "<text text-anchor=\"start\" x=\"1163.5\" y=\"-7.8\" font-family=\"Helvetica,sans-Serif\" font-size=\"14.00\">value = [175, 29]</text>\r\n",
       "</g>\r\n",
       "<!-- 22&#45;&gt;24 -->\r\n",
       "<g id=\"edge24\" class=\"edge\"><title>22&#45;&gt;24</title>\r\n",
       "<path fill=\"none\" stroke=\"black\" d=\"M1136.52,-88.9485C1149.02,-79.3431 1162.65,-68.8747 1175.05,-59.345\"/>\r\n",
       "<polygon fill=\"black\" stroke=\"black\" points=\"1177.2,-62.1046 1183,-53.2367 1172.94,-56.5537 1177.2,-62.1046\"/>\r\n",
       "</g>\r\n",
       "</g>\r\n",
       "</svg>\r\n"
      ],
      "text/plain": [
       "<graphviz.files.Source at 0x233f722def0>"
      ]
     },
     "execution_count": 27,
     "metadata": {},
     "output_type": "execute_result"
    }
   ],
   "source": [
    "import graphviz\n",
    "dot_data = tree.export_graphviz(tree_optimized, \n",
    "                                out_file=None,\n",
    "                                filled=True, \n",
    "                                rounded=True,  \n",
    "                                special_characters=True,\n",
    "                               feature_names = train_columns) \n",
    "graph = graphviz.Source(dot_data)\n",
    "graph"
   ]
  },
  {
   "cell_type": "code",
   "execution_count": 28,
   "metadata": {},
   "outputs": [],
   "source": [
    "#Prediction on the test set"
   ]
  },
  {
   "cell_type": "code",
   "execution_count": 29,
   "metadata": {},
   "outputs": [],
   "source": [
    "test_without_PId = tree_data[\"test\"].drop(\"PassengerId\",axis=1)\n",
    "prediction_values = tree_optimized.predict(test_without_PId).astype(int)\n",
    "prediction = pd.DataFrame({\"PassengerId\":tree_data[\"test\"][\"PassengerId\"],\n",
    "                           \"Survived\":prediction_values})\n",
    "\n",
    "prediction.head()\n",
    "prediction.to_csv(\"Titanic_tree_prediction.csv\",index=False)\n"
   ]
  },
  {
   "cell_type": "code",
   "execution_count": 30,
   "metadata": {},
   "outputs": [],
   "source": [
    "#Performance evaluation"
   ]
  },
  {
   "cell_type": "code",
   "execution_count": 31,
   "metadata": {},
   "outputs": [
    {
     "name": "stdout",
     "output_type": "stream",
     "text": [
      "0    110\n",
      "1     69\n",
      "Name: Survived, dtype: int64\n"
     ]
    },
    {
     "data": {
      "text/plain": [
       "array([[0.90909091, 0.09090909],\n",
       "       [0.33333333, 0.66666667]])"
      ]
     },
     "execution_count": 31,
     "metadata": {},
     "output_type": "execute_result"
    }
   ],
   "source": [
    "from sklearn.metrics import confusion_matrix\n",
    "\n",
    "evaluation = {}\n",
    "cm = {}\n",
    "\n",
    "\n",
    "valid_without_PId = tree_data[\"valid\"].drop(\"PassengerId\",axis=1)\n",
    "evaluation[\"tree\"] = tree_optimized.predict(valid_without_PId).astype(int)\n",
    "survival_from_data = combined_cleaned[\"valid\"][\"Survived\"].astype(int)\n",
    "\n",
    "print(survival_from_data.value_counts())\n",
    "\n",
    "cm[\"tree\"] = confusion_matrix(survival_from_data, evaluation[\"tree\"])\n",
    "cm[\"tree\"] = cm[\"tree\"].astype('float') / cm[\"tree\"].sum(axis=1)[:, np.newaxis]\n",
    "\n",
    "cm[\"tree\"]"
   ]
  },
  {
   "cell_type": "code",
   "execution_count": 32,
   "metadata": {},
   "outputs": [],
   "source": [
    "import itertools\n",
    "\n",
    "def plot_confusion_matrix(cm, classes,\n",
    "                          title='Confusion matrix',\n",
    "                          cmap=plt.cm.Blues):\n",
    "    \"\"\"\n",
    "    This function prints and plots the confusion matrix.\n",
    "    Normalization can be applied by setting `normalize=True`.\n",
    "    \"\"\"\n",
    "    print(cm)\n",
    "\n",
    "    plt.imshow(cm, interpolation='nearest', cmap=cmap)\n",
    "    plt.title(title)\n",
    "    plt.colorbar()\n",
    "    tick_marks = np.arange(len(classes))\n",
    "    plt.xticks(tick_marks, classes, rotation=45)\n",
    "    plt.yticks(tick_marks, classes)\n",
    "\n",
    "    fmt = '.2f'\n",
    "    thresh = cm.max() / 2.\n",
    "    for i, j in itertools.product(range(cm.shape[0]), range(cm.shape[1])):\n",
    "        plt.text(j, i, format(cm[i, j], fmt),\n",
    "                 horizontalalignment=\"center\",\n",
    "                 color=\"white\" if cm[i, j] > thresh else \"black\")\n",
    "\n",
    "    plt.tight_layout()\n",
    "    plt.ylabel('True label')\n",
    "    plt.xlabel('Predicted label')"
   ]
  },
  {
   "cell_type": "code",
   "execution_count": 33,
   "metadata": {},
   "outputs": [],
   "source": [
    "#Into the woods - random forest"
   ]
  },
  {
   "cell_type": "code",
   "execution_count": 34,
   "metadata": {},
   "outputs": [
    {
     "data": {
      "text/plain": [
       "RandomForestClassifier(bootstrap=True, class_weight=None, criterion='gini',\n",
       "            max_depth=4, max_features='auto', max_leaf_nodes=None,\n",
       "            min_impurity_decrease=0.0, min_impurity_split=None,\n",
       "            min_samples_leaf=20, min_samples_split=2,\n",
       "            min_weight_fraction_leaf=0.1, n_estimators=10, n_jobs=1,\n",
       "            oob_score=False, random_state=None, verbose=0,\n",
       "            warm_start=False)"
      ]
     },
     "execution_count": 34,
     "metadata": {},
     "output_type": "execute_result"
    }
   ],
   "source": [
    "from sklearn.ensemble import RandomForestClassifier\n",
    "\n",
    "clf_forest = RandomForestClassifier(n_estimators=10,min_samples_leaf=20, max_depth=4,min_weight_fraction_leaf=0.1)\n",
    "clf_forest.fit(X,Y)"
   ]
  },
  {
   "cell_type": "code",
   "execution_count": 41,
   "metadata": {},
   "outputs": [],
   "source": [
    "prediction_values_forest = clf_forest.predict(test_without_PId).astype(int)\n",
    "prediction_forest = pd.DataFrame({\"PassengerId\":tree_data[\"test\"][\"PassengerId\"],\n",
    "                           \"Survived\":prediction_values_forest})\n",
    "\n",
    "#prediction_forest.to_csv(\"Titanic_tree_prediction_forest.csv\",index=False)"
   ]
  },
  {
   "cell_type": "code",
   "execution_count": 42,
   "metadata": {},
   "outputs": [],
   "source": [
    "#Random forest with parameters optimization"
   ]
  },
  {
   "cell_type": "code",
   "execution_count": 44,
   "metadata": {},
   "outputs": [
    {
     "name": "stderr",
     "output_type": "stream",
     "text": [
      "C:\\ProgramData\\Anaconda3\\lib\\site-packages\\sklearn\\metrics\\classification.py:1135: UndefinedMetricWarning: Precision is ill-defined and being set to 0.0 due to no predicted samples.\n",
      "  'precision', 'predicted', average, warn_for)\n",
      "C:\\ProgramData\\Anaconda3\\lib\\site-packages\\sklearn\\metrics\\classification.py:1135: UndefinedMetricWarning: Precision is ill-defined and being set to 0.0 due to no predicted samples.\n",
      "  'precision', 'predicted', average, warn_for)\n",
      "C:\\ProgramData\\Anaconda3\\lib\\site-packages\\sklearn\\metrics\\classification.py:1135: UndefinedMetricWarning: Precision is ill-defined and being set to 0.0 due to no predicted samples.\n",
      "  'precision', 'predicted', average, warn_for)\n",
      "C:\\ProgramData\\Anaconda3\\lib\\site-packages\\sklearn\\metrics\\classification.py:1135: UndefinedMetricWarning: Precision is ill-defined and being set to 0.0 due to no predicted samples.\n",
      "  'precision', 'predicted', average, warn_for)\n",
      "C:\\ProgramData\\Anaconda3\\lib\\site-packages\\sklearn\\metrics\\classification.py:1135: UndefinedMetricWarning: Precision is ill-defined and being set to 0.0 due to no predicted samples.\n",
      "  'precision', 'predicted', average, warn_for)\n",
      "C:\\ProgramData\\Anaconda3\\lib\\site-packages\\sklearn\\metrics\\classification.py:1135: UndefinedMetricWarning: Precision is ill-defined and being set to 0.0 due to no predicted samples.\n",
      "  'precision', 'predicted', average, warn_for)\n",
      "C:\\ProgramData\\Anaconda3\\lib\\site-packages\\sklearn\\metrics\\classification.py:1135: UndefinedMetricWarning: Precision is ill-defined and being set to 0.0 due to no predicted samples.\n",
      "  'precision', 'predicted', average, warn_for)\n",
      "C:\\ProgramData\\Anaconda3\\lib\\site-packages\\sklearn\\metrics\\classification.py:1135: UndefinedMetricWarning: Precision is ill-defined and being set to 0.0 due to no predicted samples.\n",
      "  'precision', 'predicted', average, warn_for)\n",
      "C:\\ProgramData\\Anaconda3\\lib\\site-packages\\sklearn\\metrics\\classification.py:1135: UndefinedMetricWarning: Precision is ill-defined and being set to 0.0 due to no predicted samples.\n",
      "  'precision', 'predicted', average, warn_for)\n",
      "C:\\ProgramData\\Anaconda3\\lib\\site-packages\\sklearn\\metrics\\classification.py:1135: UndefinedMetricWarning: Precision is ill-defined and being set to 0.0 due to no predicted samples.\n",
      "  'precision', 'predicted', average, warn_for)\n",
      "C:\\ProgramData\\Anaconda3\\lib\\site-packages\\sklearn\\metrics\\classification.py:1135: UndefinedMetricWarning: Precision is ill-defined and being set to 0.0 due to no predicted samples.\n",
      "  'precision', 'predicted', average, warn_for)\n",
      "C:\\ProgramData\\Anaconda3\\lib\\site-packages\\sklearn\\metrics\\classification.py:1135: UndefinedMetricWarning: Precision is ill-defined and being set to 0.0 due to no predicted samples.\n",
      "  'precision', 'predicted', average, warn_for)\n",
      "C:\\ProgramData\\Anaconda3\\lib\\site-packages\\sklearn\\metrics\\classification.py:1135: UndefinedMetricWarning: Precision is ill-defined and being set to 0.0 due to no predicted samples.\n",
      "  'precision', 'predicted', average, warn_for)\n",
      "C:\\ProgramData\\Anaconda3\\lib\\site-packages\\sklearn\\metrics\\classification.py:1135: UndefinedMetricWarning: Precision is ill-defined and being set to 0.0 due to no predicted samples.\n",
      "  'precision', 'predicted', average, warn_for)\n"
     ]
    },
    {
     "name": "stdout",
     "output_type": "stream",
     "text": [
      "Forest best parameters : {'criterion': 'entropy', 'max_depth': 5, 'min_weight_fraction_leaf': 0.30000000000000004, 'n_estimators': 7}\n",
      "Forest best estimator : RandomForestClassifier(bootstrap=True, class_weight=None, criterion='entropy',\n",
      "            max_depth=5, max_features='auto', max_leaf_nodes=None,\n",
      "            min_impurity_decrease=0.0, min_impurity_split=None,\n",
      "            min_samples_leaf=1, min_samples_split=2,\n",
      "            min_weight_fraction_leaf=0.30000000000000004, n_estimators=7,\n",
      "            n_jobs=1, oob_score=False, random_state=None, verbose=0,\n",
      "            warm_start=False)\n",
      "Forest best score : 0.9435318017656501\n"
     ]
    },
    {
     "name": "stderr",
     "output_type": "stream",
     "text": [
      "C:\\ProgramData\\Anaconda3\\lib\\site-packages\\sklearn\\metrics\\classification.py:1135: UndefinedMetricWarning: Precision is ill-defined and being set to 0.0 due to no predicted samples.\n",
      "  'precision', 'predicted', average, warn_for)\n",
      "C:\\ProgramData\\Anaconda3\\lib\\site-packages\\sklearn\\metrics\\classification.py:1135: UndefinedMetricWarning: Precision is ill-defined and being set to 0.0 due to no predicted samples.\n",
      "  'precision', 'predicted', average, warn_for)\n"
     ]
    }
   ],
   "source": [
    "param_grid = {'n_estimators':np.arange(3,11,2),\n",
    "              'max_depth':np.arange(3,6),\n",
    "              'min_weight_fraction_leaf':np.arange(0,0.4,0.1),\n",
    "              'criterion':['gini','entropy']}\n",
    "clf = RandomForestClassifier()\n",
    "forest_search = GridSearchCV(clf, param_grid, scoring='precision')\n",
    "\n",
    "forest_search.fit(X,Y)\n",
    "\n",
    "print(\"Forest best parameters :\",forest_search.best_params_)\n",
    "print(\"Forest best estimator :\",forest_search.best_estimator_ )\n",
    "print(\"Forest best score :\",forest_search.best_score_ )"
   ]
  },
  {
   "cell_type": "code",
   "execution_count": 45,
   "metadata": {},
   "outputs": [
    {
     "data": {
      "text/plain": [
       "RandomForestClassifier(bootstrap=True, class_weight=None, criterion='entropy',\n",
       "            max_depth=5, max_features='auto', max_leaf_nodes=None,\n",
       "            min_impurity_decrease=0.0, min_impurity_split=None,\n",
       "            min_samples_leaf=1, min_samples_split=2,\n",
       "            min_weight_fraction_leaf=0.30000000000000004, n_estimators=7,\n",
       "            n_jobs=1, oob_score=False, random_state=None, verbose=0,\n",
       "            warm_start=False)"
      ]
     },
     "execution_count": 45,
     "metadata": {},
     "output_type": "execute_result"
    }
   ],
   "source": [
    "clf_forest = RandomForestClassifier(**forest_search.best_params_)\n",
    "clf_forest.fit(X,Y)"
   ]
  },
  {
   "cell_type": "code",
   "execution_count": 46,
   "metadata": {},
   "outputs": [],
   "source": [
    "prediction_values_forest = clf_forest.predict(test_without_PId).astype(int)\n",
    "prediction_forest = pd.DataFrame({\"PassengerId\":tree_data[\"test\"][\"PassengerId\"],\n",
    "                           \"Survived\":prediction_values_forest})\n",
    "\n",
    "prediction_forest.to_csv(\"Titanic_tree_prediction_forest.csv\",index=False)"
   ]
  },
  {
   "cell_type": "code",
   "execution_count": 47,
   "metadata": {},
   "outputs": [],
   "source": [
    "#Performance evaluation"
   ]
  },
  {
   "cell_type": "code",
   "execution_count": 48,
   "metadata": {},
   "outputs": [
    {
     "name": "stdout",
     "output_type": "stream",
     "text": [
      "[[1. 0.]\n",
      " [1. 0.]]\n"
     ]
    },
    {
     "data": {
      "image/png": "[encoded data removed]",
      "text/plain": [
       "<Figure size 432x288 with 2 Axes>"
      ]
     },
     "metadata": {},
     "output_type": "display_data"
    }
   ],
   "source": [
    "evaluation[\"forest\"] = clf_forest.predict(valid_without_PId).astype(int)\n",
    "\n",
    "cm[\"forest\"] = confusion_matrix(survival_from_data, evaluation[\"forest\"])\n",
    "cm[\"forest\"] = cm[\"forest\"].astype('float') / cm[\"forest\"].sum(axis=1)[:, np.newaxis]\n",
    "\n",
    "cm[\"forest\"]\n",
    "\n",
    "plot_confusion_matrix(cm[\"forest\"], classes=[\"No\",\"Yes\"], \n",
    "                      title='Normalized confusion matrix')"
   ]
  },
  {
   "cell_type": "code",
   "execution_count": 49,
   "metadata": {},
   "outputs": [],
   "source": [
    "#Naive Bayes"
   ]
  },
  {
   "cell_type": "code",
   "execution_count": 50,
   "metadata": {},
   "outputs": [
    {
     "data": {
      "text/plain": [
       "GaussianNB(priors=None)"
      ]
     },
     "execution_count": 50,
     "metadata": {},
     "output_type": "execute_result"
    }
   ],
   "source": [
    "from sklearn.naive_bayes import GaussianNB\n",
    "gnb = GaussianNB()\n",
    "gnb.fit(X, Y)"
   ]
  },
  {
   "cell_type": "code",
   "execution_count": 51,
   "metadata": {},
   "outputs": [],
   "source": [
    "prediction_values_NaiveBayes = gnb.predict(test_without_PId).astype(int)\n",
    "prediction_NaiveBayes = pd.DataFrame({\"PassengerId\":tree_data[\"test\"][\"PassengerId\"],\n",
    "                           \"Survived\":prediction_values_NaiveBayes})\n",
    "\n",
    "#prediction_NaiveBayes.to_csv(\"Titanic_tree_prediction_NaiveBayes.csv\",index=False)"
   ]
  },
  {
   "cell_type": "code",
   "execution_count": 52,
   "metadata": {},
   "outputs": [],
   "source": [
    "#Performance evaluation"
   ]
  },
  {
   "cell_type": "code",
   "execution_count": 53,
   "metadata": {},
   "outputs": [
    {
     "name": "stdout",
     "output_type": "stream",
     "text": [
      "[[0.87272727 0.12727273]\n",
      " [0.27536232 0.72463768]]\n"
     ]
    },
    {
     "data": {
      "image/png": "[encoded data removed]",
      "text/plain": [
       "<Figure size 432x288 with 2 Axes>"
      ]
     },
     "metadata": {},
     "output_type": "display_data"
    }
   ],
   "source": [
    "evaluation[\"NB\"] = gnb.predict(valid_without_PId).astype(int)\n",
    "\n",
    "cm[\"NB\"] = confusion_matrix(survival_from_data, evaluation[\"NB\"])\n",
    "cm[\"NB\"] = cm[\"NB\"].astype('float') / cm[\"NB\"].sum(axis=1)[:, np.newaxis]\n",
    "\n",
    "cm[\"NB\"]\n",
    "\n",
    "plot_confusion_matrix(cm[\"NB\"], classes=[\"No\",\"Yes\"], \n",
    "                      title='Normalized confusion matrix')"
   ]
  },
  {
   "cell_type": "code",
   "execution_count": 54,
   "metadata": {},
   "outputs": [],
   "source": [
    "#Support Vector Machines"
   ]
  },
  {
   "cell_type": "code",
   "execution_count": 55,
   "metadata": {},
   "outputs": [
    {
     "data": {
      "text/plain": [
       "SVC(C=1.0, cache_size=200, class_weight=None, coef0=0.0,\n",
       "  decision_function_shape='ovr', degree=3, gamma='auto', kernel='rbf',\n",
       "  max_iter=-1, probability=False, random_state=None, shrinking=True,\n",
       "  tol=0.001, verbose=False)"
      ]
     },
     "execution_count": 55,
     "metadata": {},
     "output_type": "execute_result"
    }
   ],
   "source": [
    "from sklearn import svm\n",
    "clf_svm = svm.SVC()\n",
    "clf_svm.fit(X,Y)"
   ]
  },
  {
   "cell_type": "code",
   "execution_count": 56,
   "metadata": {},
   "outputs": [],
   "source": [
    "prediction_values_svm = clf_svm.predict(test_without_PId).astype(int)\n",
    "prediction_svm = pd.DataFrame({\"PassengerId\":tree_data[\"test\"][\"PassengerId\"],\n",
    "                           \"Survived\":prediction_values_svm})\n",
    "\n",
    "#prediction_svm.to_csv(\"Titanic_tree_prediction_svm.csv\",index=False)"
   ]
  },
  {
   "cell_type": "code",
   "execution_count": null,
   "metadata": {},
   "outputs": [],
   "source": []
  }
 ],
 "metadata": {
  "kernelspec": {
   "display_name": "Python 3",
   "language": "python",
   "name": "python3"
  },
  "language_info": {
   "codemirror_mode": {
    "name": "ipython",
    "version": 3
   },
   "file_extension": ".py",
   "mimetype": "text/x-python",
   "name": "python",
   "nbconvert_exporter": "python",
   "pygments_lexer": "ipython3",
   "version": "3.6.5"
  }
 },
 "nbformat": 4,
 "nbformat_minor": 2
}
